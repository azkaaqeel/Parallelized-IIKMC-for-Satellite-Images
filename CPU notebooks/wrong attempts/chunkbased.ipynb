{
  "cells": [
    {
      "cell_type": "markdown",
      "source": [
        "This attempt was discarded as the pre processed data turned out to be faulty."
      ],
      "metadata": {
        "id": "5NrkaUROLHJT"
      }
    },
    {
      "cell_type": "markdown",
      "metadata": {
        "id": "0A07FB1BardC"
      },
      "source": [
        "# Parallel Inter-Image k-Means Clustering (IIkMC)\n",
        "## Replication of Han & Lee (2024) using Python + GPU Acceleration\n",
        "- Preprocessing with CPU parallelism (joblib)\n",
        "- Clustering with GPU acceleration (CuPy)\n",
        "- Performance comparison with serial + threaded + GPU"
      ]
    },
    {
      "cell_type": "code",
      "execution_count": null,
      "metadata": {
        "colab": {
          "base_uri": "https://localhost:8080/"
        },
        "id": "Xwf57OdYardE",
        "outputId": "1e3028f7-f44c-4c19-ba48-95425421038d"
      },
      "outputs": [
        {
          "name": "stdout",
          "output_type": "stream",
          "text": [
            "Collecting rasterio\n",
            "  Downloading rasterio-1.4.3-cp311-cp311-manylinux_2_17_x86_64.manylinux2014_x86_64.whl.metadata (9.1 kB)\n",
            "Requirement already satisfied: joblib in /usr/local/lib/python3.11/dist-packages (1.5.0)\n",
            "Collecting cupy-cuda11x\n",
            "  Downloading cupy_cuda11x-13.4.1-cp311-cp311-manylinux2014_x86_64.whl.metadata (2.7 kB)\n",
            "Collecting affine (from rasterio)\n",
            "  Downloading affine-2.4.0-py3-none-any.whl.metadata (4.0 kB)\n",
            "Requirement already satisfied: attrs in /usr/local/lib/python3.11/dist-packages (from rasterio) (25.3.0)\n",
            "Requirement already satisfied: certifi in /usr/local/lib/python3.11/dist-packages (from rasterio) (2025.4.26)\n",
            "Requirement already satisfied: click>=4.0 in /usr/local/lib/python3.11/dist-packages (from rasterio) (8.1.8)\n",
            "Collecting cligj>=0.5 (from rasterio)\n",
            "  Downloading cligj-0.7.2-py3-none-any.whl.metadata (5.0 kB)\n",
            "Requirement already satisfied: numpy>=1.24 in /usr/local/lib/python3.11/dist-packages (from rasterio) (2.0.2)\n",
            "Collecting click-plugins (from rasterio)\n",
            "  Downloading click_plugins-1.1.1-py2.py3-none-any.whl.metadata (6.4 kB)\n",
            "Requirement already satisfied: pyparsing in /usr/local/lib/python3.11/dist-packages (from rasterio) (3.2.3)\n",
            "Requirement already satisfied: fastrlock>=0.5 in /usr/local/lib/python3.11/dist-packages (from cupy-cuda11x) (0.8.3)\n",
            "Downloading rasterio-1.4.3-cp311-cp311-manylinux_2_17_x86_64.manylinux2014_x86_64.whl (22.2 MB)\n",
            "\u001b[2K   \u001b[90m━━━━━━━━━━━━━━━━━━━━━━━━━━━━━━━━━━━━━━━━\u001b[0m \u001b[32m22.2/22.2 MB\u001b[0m \u001b[31m60.6 MB/s\u001b[0m eta \u001b[36m0:00:00\u001b[0m\n",
            "\u001b[?25hDownloading cupy_cuda11x-13.4.1-cp311-cp311-manylinux2014_x86_64.whl (100.0 MB)\n",
            "\u001b[2K   \u001b[90m━━━━━━━━━━━━━━━━━━━━━━━━━━━━━━━━━━━━━━━━\u001b[0m \u001b[32m100.0/100.0 MB\u001b[0m \u001b[31m8.3 MB/s\u001b[0m eta \u001b[36m0:00:00\u001b[0m\n",
            "\u001b[?25hDownloading cligj-0.7.2-py3-none-any.whl (7.1 kB)\n",
            "Downloading affine-2.4.0-py3-none-any.whl (15 kB)\n",
            "Downloading click_plugins-1.1.1-py2.py3-none-any.whl (7.5 kB)\n",
            "Installing collected packages: cupy-cuda11x, cligj, click-plugins, affine, rasterio\n",
            "Successfully installed affine-2.4.0 click-plugins-1.1.1 cligj-0.7.2 cupy-cuda11x-13.4.1 rasterio-1.4.3\n"
          ]
        }
      ],
      "source": [
        "# Install necessary packages\n",
        "!pip install rasterio joblib cupy-cuda11x"
      ]
    },
    {
      "cell_type": "code",
      "execution_count": null,
      "metadata": {
        "id": "68k4FpDc6vhU"
      },
      "outputs": [],
      "source": [
        "import numpy as np\n",
        "import rasterio\n",
        "import os\n",
        "from concurrent.futures import ThreadPoolExecutor"
      ]
    },
    {
      "cell_type": "code",
      "execution_count": null,
      "metadata": {
        "colab": {
          "base_uri": "https://localhost:8080/"
        },
        "id": "16RWSWNxardG",
        "outputId": "7ad32a0f-a5cb-4161-8f35-c2eda811c3c0"
      },
      "outputs": [
        {
          "name": "stdout",
          "output_type": "stream",
          "text": [
            "Mounted at /content/drive\n"
          ]
        }
      ],
      "source": [
        "# Mount Google Drive if using large datasets\n",
        "from google.colab import drive\n",
        "drive.mount('/content/drive')"
      ]
    },
    {
      "cell_type": "code",
      "execution_count": null,
      "metadata": {
        "id": "x9N29ZTlardG"
      },
      "outputs": [],
      "source": [
        "# Dataset path (adjust this to your drive folder)\n",
        "dataset_path = '/content/drive/MyDrive/PDC/dataset'"
      ]
    },
    {
      "cell_type": "code",
      "execution_count": null,
      "metadata": {
        "id": "C5mb63ccC8c8"
      },
      "outputs": [],
      "source": []
    },
    {
      "cell_type": "markdown",
      "metadata": {
        "id": "XOKpS63_ardG"
      },
      "source": [
        "## Parallel Preprocessing (CPU - Threaded)"
      ]
    },
    {
      "cell_type": "code",
      "execution_count": null,
      "metadata": {
        "id": "ceH-ZpzzardG"
      },
      "outputs": [],
      "source": [
        "def load_landsat_bands_with_mask(scene_folder):\n",
        "    band_suffixes = ['SR_B2.TIF', 'SR_B3.TIF', 'SR_B4.TIF',\n",
        "                     'SR_B5.TIF', 'SR_B6.TIF', 'SR_B7.TIF']\n",
        "    bands = []\n",
        "\n",
        "    for suffix in band_suffixes:\n",
        "        band_path = [f for f in os.listdir(scene_folder) if suffix in f][0]\n",
        "        with rasterio.open(os.path.join(scene_folder, band_path)) as src:\n",
        "            band = src.read(1).astype(np.float32)\n",
        "            bands.append(band)\n",
        "\n",
        "    # Stack into (rows, cols, 6)\n",
        "    stacked = np.stack(bands, axis=-1)\n",
        "\n",
        "    # Load QA_AEROSOL band\n",
        "    qa_path = [f for f in os.listdir(scene_folder) if 'SR_QA_AEROSOL' in f][0]\n",
        "    with rasterio.open(os.path.join(scene_folder, qa_path)) as src:\n",
        "        qa = src.read(1)\n",
        "\n",
        "    # Mask out cloud shadow (bit 3) and cloud (bit 5)\n",
        "    cloud_shadow = (qa & (1 << 3)) > 0\n",
        "    cloud = (qa & (1 << 5)) > 0\n",
        "    bad_mask = cloud_shadow | cloud\n",
        "\n",
        "    stacked[bad_mask] = np.nan\n",
        "    return stacked\n"
      ]
    },
    {
      "cell_type": "code",
      "execution_count": null,
      "metadata": {
        "id": "K91mhlpt60Ux"
      },
      "outputs": [],
      "source": [
        "def flatten_scene(scene_path):\n",
        "    img = load_landsat_bands_with_mask(scene_path)\n",
        "    img_flat = img.reshape(-1, 6)\n",
        "    img_flat = img_flat[~np.isnan(img_flat).any(axis=1)]\n",
        "    return img_flat\n"
      ]
    },
    {
      "cell_type": "code",
      "execution_count": null,
      "metadata": {
        "id": "lmDwTWq164Ub"
      },
      "outputs": [],
      "source": [
        "def prepare_all_scenes_threaded(dataset_dir, max_workers=4):\n",
        "    scene_dirs = [os.path.join(dataset_dir, f) for f in os.listdir(dataset_dir)\n",
        "                  if os.path.isdir(os.path.join(dataset_dir, f))]\n",
        "\n",
        "    with ThreadPoolExecutor(max_workers=max_workers) as executor:\n",
        "        results = list(executor.map(flatten_scene, scene_dirs))\n",
        "\n",
        "    return np.vstack(results)\n"
      ]
    },
    {
      "cell_type": "code",
      "execution_count": null,
      "metadata": {
        "colab": {
          "base_uri": "https://localhost:8080/"
        },
        "id": "gyNXrxIv65V0",
        "outputId": "68b90faf-d006-43ce-a6d3-cd5c9d766897"
      },
      "outputs": [
        {
          "name": "stdout",
          "output_type": "stream",
          "text": [
            "Threaded preprocessing complete.\n",
            "Combined dataset shape: (115436984, 6)\n",
            "Time taken: 76.35 seconds\n"
          ]
        }
      ],
      "source": [
        "\n",
        "import time\n",
        "start = time.time()\n",
        "\n",
        "X = prepare_all_scenes_threaded(dataset_path, max_workers=3)\n",
        "\n",
        "end = time.time()\n",
        "print(\"Threaded preprocessing complete.\")\n",
        "print(\"Combined dataset shape:\", X.shape)\n",
        "print(f\"Time taken: {end - start:.2f} seconds\")"
      ]
    },
    {
      "cell_type": "code",
      "execution_count": null,
      "metadata": {
        "colab": {
          "base_uri": "https://localhost:8080/"
        },
        "id": "h4-gtli9GZ-T",
        "outputId": "3c6fd425-1890-419b-cede-3f090d9f082d"
      },
      "outputs": [
        {
          "name": "stdout",
          "output_type": "stream",
          "text": [
            "50.965222120285034\n"
          ]
        }
      ],
      "source": [
        "parallel_time3= end-start\n",
        "print(parallel_time3)"
      ]
    },
    {
      "cell_type": "markdown",
      "metadata": {
        "id": "e_Pu358jDNQ6"
      },
      "source": [
        "For comparison purposes, checking time with max workers 2"
      ]
    },
    {
      "cell_type": "code",
      "execution_count": null,
      "metadata": {
        "colab": {
          "base_uri": "https://localhost:8080/"
        },
        "id": "7wTed5TxC3eQ",
        "outputId": "576070f5-594f-4b98-c41a-d0bfd8f7e1ab"
      },
      "outputs": [
        {
          "name": "stdout",
          "output_type": "stream",
          "text": [
            "Threaded preprocessing complete.\n",
            "Combined dataset shape: (115436984, 6)\n",
            "Time taken: 53.84 seconds\n"
          ]
        }
      ],
      "source": [
        "\n",
        "import time\n",
        "start = time.time()\n",
        "\n",
        "X2 = prepare_all_scenes_threaded(dataset_path, max_workers=2)\n",
        "\n",
        "end = time.time()\n",
        "print(\"Threaded preprocessing complete.\")\n",
        "print(\"Combined dataset shape:\", X.shape)\n",
        "print(f\"Time taken: {end - start:.2f} seconds\")"
      ]
    },
    {
      "cell_type": "code",
      "execution_count": null,
      "metadata": {
        "colab": {
          "base_uri": "https://localhost:8080/"
        },
        "id": "ydLKnxpgIj9S",
        "outputId": "716ab7ff-7a01-4225-acdc-04072310584c"
      },
      "outputs": [
        {
          "name": "stdout",
          "output_type": "stream",
          "text": [
            "53.841261863708496\n"
          ]
        }
      ],
      "source": [
        "parallel_time2= end - start\n",
        "print(parallel_time2)"
      ]
    },
    {
      "cell_type": "code",
      "execution_count": null,
      "metadata": {
        "colab": {
          "base_uri": "https://localhost:8080/"
        },
        "id": "e5VkOLwLJMDh",
        "outputId": "2928d53d-aa97-4247-cc20-3b4236e0b555"
      },
      "outputs": [
        {
          "name": "stdout",
          "output_type": "stream",
          "text": [
            "64.43632245063782\n"
          ]
        }
      ],
      "source": [
        "start = time.time()\n",
        "\n",
        "X1 = prepare_all_scenes_threaded(dataset_path, max_workers=1)\n",
        "\n",
        "end = time.time()\n",
        "parallel_time1= end - start\n",
        "print(parallel_time1)"
      ]
    },
    {
      "cell_type": "code",
      "execution_count": null,
      "metadata": {
        "colab": {
          "base_uri": "https://localhost:8080/"
        },
        "id": "yMxClIkpPZBO",
        "outputId": "3cbd9af9-07a3-430f-b134-8310c5ebceb0"
      },
      "outputs": [
        {
          "name": "stdout",
          "output_type": "stream",
          "text": [
            "1.2487981210690158\n"
          ]
        }
      ],
      "source": [
        "speedup = parallel_time1/parallel_time3\n",
        "print(speedup)"
      ]
    },
    {
      "cell_type": "markdown",
      "metadata": {
        "id": "CDWZBIcqc1Sa"
      },
      "source": [
        "The best performance was observed with max_workers=3, achieving a 1.25× speedup over the single-threaded baseline. This matches the expected behavior from the paper, where parallel performance improves until memory and I/O constraints begin to dominate. Beyond 3 threads, the Colab VM exceeds available RAM and fails, which sets an upper bound for practical parallelism in this environment"
      ]
    },
    {
      "cell_type": "code",
      "execution_count": null,
      "metadata": {
        "colab": {
          "base_uri": "https://localhost:8080/"
        },
        "id": "nsTPPqwkC1cK",
        "outputId": "b25d86c7-39ae-4d1f-e517-275f393120a6"
      },
      "outputs": [
        {
          "name": "stdout",
          "output_type": "stream",
          "text": [
            "Requirement already satisfied: tqdm in /usr/local/lib/python3.11/dist-packages (4.67.1)\n"
          ]
        }
      ],
      "source": [
        "!pip install tqdm\n",
        "from tqdm.notebook import tqdm\n"
      ]
    },
    {
      "cell_type": "markdown",
      "metadata": {
        "id": "Cm_PjRFMDV5A"
      },
      "source": [
        "Serial computation"
      ]
    },
    {
      "cell_type": "code",
      "execution_count": null,
      "metadata": {
        "id": "8byhMghTDVS4"
      },
      "outputs": [],
      "source": [
        "def prepare_all_scenes_serial(dataset_dir):\n",
        "    scene_dirs = [os.path.join(dataset_dir, f) for f in os.listdir(dataset_dir)\n",
        "                  if os.path.isdir(os.path.join(dataset_dir, f))]\n",
        "\n",
        "    all_pixels = []\n",
        "\n",
        "    for scene_path in tqdm(scene_dirs, desc=\"Processing scenes (serial)\"):\n",
        "        img_flat = flatten_scene(scene_path)\n",
        "        all_pixels.append(img_flat)\n",
        "\n",
        "    return np.vstack(all_pixels)\n"
      ]
    },
    {
      "cell_type": "code",
      "execution_count": null,
      "metadata": {
        "colab": {
          "base_uri": "https://localhost:8080/",
          "height": 101,
          "referenced_widgets": [
            "2695d3a2686047d9834a988de0842710",
            "0a0bc9bc3dab4444963ef3932107fd2e",
            "71900abbeb6e42a5ba955ef1c8ef62fa",
            "87d6861473da463d81bcd2e5a9270d0a",
            "4ed790383e4d434587a28e4df59f0e7f",
            "294954999a3e42429c7d840eb0fd6564",
            "efb1ceb3bdc446b8bc72f9bc30dad56b",
            "6aeec8e98a2142d188e489135b2acbc8",
            "b63e991c8d564fe2871491970c060525",
            "e98c06df8e20466ebecbe44acce8af7e",
            "0d05b5d9edb84cb09cd25f6946785609"
          ]
        },
        "id": "22g2OptwDaUo",
        "outputId": "aac13916-f380-4c56-bc87-790121344d2e"
      },
      "outputs": [
        {
          "data": {
            "application/vnd.jupyter.widget-view+json": {
              "model_id": "2695d3a2686047d9834a988de0842710",
              "version_major": 2,
              "version_minor": 0
            },
            "text/plain": [
              "Processing scenes (serial):   0%|          | 0/5 [00:00<?, ?it/s]"
            ]
          },
          "metadata": {},
          "output_type": "display_data"
        },
        {
          "name": "stdout",
          "output_type": "stream",
          "text": [
            "Serial preprocessing complete.\n",
            "Combined shape: (115436984, 6)\n",
            "Time taken: 58.78 seconds\n"
          ]
        }
      ],
      "source": [
        "import time\n",
        "\n",
        "start = time.time()\n",
        "X_serial = prepare_all_scenes_serial(dataset_path)\n",
        "end = time.time()\n",
        "\n",
        "print(\"Serial preprocessing complete.\")\n",
        "print(\"Combined shape:\", X_serial.shape)\n",
        "print(f\"Time taken: {end - start:.2f} seconds\")\n",
        "serialtime= end - start\n"
      ]
    },
    {
      "cell_type": "markdown",
      "metadata": {
        "id": "4jE6SDXKKnpo"
      },
      "source": [
        "Calculating speedup"
      ]
    },
    {
      "cell_type": "code",
      "execution_count": null,
      "metadata": {
        "colab": {
          "base_uri": "https://localhost:8080/"
        },
        "id": "0BQInmf8KnIz",
        "outputId": "bbd61192-0156-4a13-ecf6-3aac2d768619"
      },
      "outputs": [
        {
          "name": "stdout",
          "output_type": "stream",
          "text": [
            "1.1533355012418272\n"
          ]
        }
      ],
      "source": [
        "serialtime=58.78\n",
        "speedup = serialtime/parallel_time3\n",
        "print(speedup)"
      ]
    },
    {
      "cell_type": "markdown",
      "metadata": {
        "id": "pk7Pza3afIXk"
      },
      "source": [
        "X is:\n",
        "\n",
        "A giant pixel matrix\n",
        "\n",
        "Each row = one valid, non-cloudy pixel from any image\n",
        "\n",
        "Each column = one spectral band (B2–B7)"
      ]
    },
    {
      "cell_type": "markdown",
      "metadata": {
        "id": "IDaMYVmPardH"
      },
      "source": [
        "## IIkMC Clustering CPU based"
      ]
    },
    {
      "cell_type": "code",
      "execution_count": null,
      "metadata": {
        "id": "FY-h8_v4pIfU"
      },
      "outputs": [],
      "source": [
        "def initialize_centers_min_max(X, k):\n",
        "    B = X.shape[1]  # Number of bands = 6\n",
        "    centers = np.zeros((k, B), dtype=np.float32)\n",
        "\n",
        "    for b in range(B):  # For each band\n",
        "        min_val = np.min(X[:, b])\n",
        "        max_val = np.max(X[:, b])\n",
        "        step = (max_val - min_val) / k\n",
        "        for i in range(k):\n",
        "            centers[i, b] = min_val + (i + 0.5) * step  # midpoint of each interval\n",
        "\n",
        "    return centers\n"
      ]
    },
    {
      "cell_type": "code",
      "execution_count": null,
      "metadata": {
        "id": "31wC52ZxvUgg"
      },
      "outputs": [],
      "source": []
    },
    {
      "cell_type": "code",
      "execution_count": null,
      "metadata": {
        "id": "4c4ZXv7ceOMj"
      },
      "outputs": [],
      "source": [
        "# Assume X is ready and centers initialized\n",
        "k = 8\n",
        "centers = initialize_centers_min_max(X, k)\n",
        "\n",
        "import time\n",
        "start = time.time()\n",
        "\n",
        "labels, final_centers = iikmc_cpu_memory_safe(X, centers, max_iter=10)\n",
        "\n",
        "end = time.time()\n",
        "print(f\"Memory-safe CPU IIkMC finished in {end - start:.2f} seconds\")\n"
      ]
    },
    {
      "cell_type": "code",
      "execution_count": null,
      "metadata": {
        "id": "XM1dSW1lf2pq"
      },
      "outputs": [],
      "source": [
        "def iikmc_cpu(X, centers, max_iter=10, tol=0.01):\n",
        "    N, B = X.shape\n",
        "    k = centers.shape[0]\n",
        "    labels = np.full(N, -1, dtype=np.int32)\n",
        "\n",
        "    for iteration in range(max_iter):\n",
        "        distances = np.linalg.norm(X[:, None, :] - centers[None, :, :], axis=2)\n",
        "        new_labels = np.argmin(distances, axis=1)\n",
        "\n",
        "        n_changed = np.sum(labels != new_labels)\n",
        "        if iteration > 0 and n_changed / N < tol:\n",
        "            print(f\"Converged after {iteration} iterations.\")\n",
        "            break\n",
        "\n",
        "        labels = new_labels\n",
        "\n",
        "        for j in range(k):\n",
        "            cluster_points = X[labels == j]\n",
        "            if len(cluster_points) > 0:\n",
        "                centers[j] = np.mean(cluster_points, axis=0)\n",
        "\n",
        "        print(f\"Iteration {iteration+1}: {n_changed} pixels changed\")\n",
        "\n",
        "    return labels, centers\n"
      ]
    },
    {
      "cell_type": "code",
      "execution_count": null,
      "metadata": {
        "id": "ExMptbZAgGGP"
      },
      "outputs": [],
      "source": [
        "import time\n",
        "start = time.time()\n",
        "\n",
        "labels, final_centers = iikmc_cpu(X, centers, max_iter=10)\n",
        "\n",
        "end = time.time()\n",
        "print(f\"CPU IIkMC finished in {end - start:.2f} seconds\")\n"
      ]
    },
    {
      "cell_type": "markdown",
      "metadata": {
        "id": "DaI9-K_fardH"
      },
      "source": [
        "## Performance Comparison Table"
      ]
    },
    {
      "cell_type": "code",
      "execution_count": null,
      "metadata": {
        "id": "aLl7H0PcardI"
      },
      "outputs": [],
      "source": [
        "# Add serial, parallel, and GPU times\n",
        "# Plot or print speedup ratios"
      ]
    },
    {
      "cell_type": "markdown",
      "metadata": {
        "id": "9FB5YZJBw8w2"
      },
      "source": [
        "Chunk based\n"
      ]
    },
    {
      "cell_type": "code",
      "execution_count": null,
      "metadata": {
        "colab": {
          "base_uri": "https://localhost:8080/"
        },
        "id": "nDUYR3Dlw1Wy",
        "outputId": "807584c1-be4d-487f-fb77-55589e484bc4"
      },
      "outputs": [
        {
          "name": "stdout",
          "output_type": "stream",
          "text": [
            "Requirement already satisfied: tqdm in /usr/local/lib/python3.11/dist-packages (4.67.1)\n"
          ]
        }
      ],
      "source": [
        "!pip install tqdm\n",
        "import numpy as np\n",
        "from tqdm.notebook import tqdm\n",
        "from concurrent.futures import ThreadPoolExecutor\n"
      ]
    },
    {
      "cell_type": "code",
      "execution_count": null,
      "metadata": {
        "id": "9tDTTTPYw6bT"
      },
      "outputs": [],
      "source": [
        "def initialize_centers_min_max(X, k):\n",
        "    B = X.shape[1]\n",
        "    centers = np.zeros((k, B), dtype=np.float32)\n",
        "\n",
        "    for b in range(B):\n",
        "        min_val = np.min(X[:, b])\n",
        "        max_val = np.max(X[:, b])\n",
        "        step = (max_val - min_val) / k\n",
        "        for i in range(k):\n",
        "            centers[i, b] = min_val + (i + 0.5) * step\n",
        "\n",
        "    return centers\n"
      ]
    },
    {
      "cell_type": "markdown",
      "metadata": {
        "id": "Z3vTx16rwz86"
      },
      "source": []
    },
    {
      "cell_type": "code",
      "execution_count": null,
      "metadata": {
        "id": "Sbpk4N8pxAha"
      },
      "outputs": [],
      "source": [
        "def iikmc_chunked_parallel(X, centers, max_iter=10, tol=0.01, num_workers=4):\n",
        "    N, B = X.shape\n",
        "    k = centers.shape[0]\n",
        "    labels = np.full(N, -1, dtype=np.int32)\n",
        "    chunks = np.array_split(np.arange(N), num_workers)\n",
        "\n",
        "    for iteration in range(max_iter):\n",
        "        new_labels = np.empty(N, dtype=np.int32)\n",
        "\n",
        "        def assign_chunk(chunk):\n",
        "            local_labels = np.empty_like(chunk)\n",
        "            for idx, i in enumerate(chunk):\n",
        "                min_dist = float('inf')\n",
        "                min_j = -1\n",
        "                for j in range(k):\n",
        "                    dist = np.linalg.norm(X[i] - centers[j])\n",
        "                    if dist < min_dist:\n",
        "                        min_dist = dist\n",
        "                        min_j = j\n",
        "                local_labels[idx] = min_j\n",
        "            return chunk, local_labels\n",
        "\n",
        "        with ThreadPoolExecutor(max_workers=num_workers) as executor:\n",
        "            futures = list(tqdm(executor.map(assign_chunk, chunks), total=len(chunks), desc=f\"Iteration {iteration+1} - Assigning\"))\n",
        "\n",
        "        for chunk, local_labels in futures:\n",
        "            new_labels[chunk] = local_labels\n",
        "\n",
        "        n_changed = np.sum(labels != new_labels)\n",
        "        if iteration > 0 and n_changed / N < tol:\n",
        "            print(f\"✅ Converged after {iteration} iterations.\")\n",
        "            break\n",
        "        labels = new_labels\n",
        "\n",
        "        center_sums = np.zeros((k, B), dtype=np.float32)\n",
        "        counts = np.zeros(k, dtype=np.int32)\n",
        "\n",
        "        for i in tqdm(range(N), desc=\"Updating centers\"):\n",
        "            cluster_id = labels[i]\n",
        "            center_sums[cluster_id] += X[i]\n",
        "            counts[cluster_id] += 1\n",
        "\n",
        "        for j in range(k):\n",
        "            if counts[j] > 0:\n",
        "                centers[j] = center_sums[j] / counts[j]\n",
        "\n",
        "        print(f\"Iteration {iteration+1} done: {n_changed} pixels changed.\")\n",
        "\n",
        "    return labels, centers\n"
      ]
    },
    {
      "cell_type": "markdown",
      "source": [],
      "metadata": {
        "id": "NnpwnYsJLFfi"
      }
    },
    {
      "cell_type": "code",
      "execution_count": null,
      "metadata": {
        "id": "_nt4eDqdcFvD"
      },
      "outputs": [],
      "source": []
    },
    {
      "cell_type": "code",
      "execution_count": null,
      "metadata": {
        "colab": {
          "background_save": true,
          "base_uri": "https://localhost:8080/",
          "height": 212,
          "referenced_widgets": [
            "99384f92a57b456d88f38a6b0ef17c1b",
            "8166e4077f594690bcec40317916d51b",
            "43426ade973f495183a6f093832b5388",
            "ee54c6c8b14b476b82d2683b3ff30385",
            "326cf5c6b22d4575bfe501ca223bcba5",
            "c3532be7a2b74362bad4cdfc9cd5c593",
            "f1e357cc31b744e4900dfe8253d54edc",
            "78f58c3b77da440ab9cbd9012d31772f",
            "5df9fa43c0e64b0b95c188a39382ba48",
            "0b0701e4c1e745ffa75205ff9953a53d",
            "b47766d578da4e6380f1e5df4944621f",
            "8a30e38bae1e49d785aa5abd09e5e88f",
            "37f2e1b25fc6440c98f9b89169dc50d6",
            "4dc4f61683e54bc1943a45fdf12102cd",
            "f0fd9cb2407e4bd086c7848fbe5c6ea7",
            "2b040bea0eeb4936be0181134affed08",
            "81a8a245c7e641e990f8564e697c9d07",
            "6e8186446be64525b6509cf55383033d",
            "365ef706e88946e4af486406b84b2277",
            "22d107f6c04e4424b0baa08843b98502",
            "066ec9dc82474e6d822971e07bbf56ec",
            "1e89897c6a724b4ba187db26b37be965",
            "ba8ac30ad6dc47bc9cd4074da8f5ec72",
            "0476ee0af982445899cb4ac61726065b",
            "5d0b25a5e30b42e49b3c285d9b2cfb2f",
            "e1fc9b20d963466b92df82ed363ad6a9",
            "850b303f355b4b188081d089d265f1f0",
            "9471e88f5c9d4109a91d4660fe1dc73b",
            "ceb5536fece64f45b1fa51c3e0203efb",
            "4fc9f3e164464437a80eb6f6d5041eae",
            "ef2d1399b1fc4195a41a86fb3141cbfb",
            "cd4adbd7c61f4726b80e4428d1a3a934",
            "5d1c9328797b45748855483d8b6a9c84",
            "94e2528ca9ad4677828a6781df63045a",
            "4b5d74646b6b4b3baf6e24527f1b789f",
            "2002f958d8c747cf9dfd1e066f1de2db",
            "b86513b5a393486ea2b62a0f9d037f2e",
            "1c066748c281475aae1c9b2304c83ac0",
            "c707427604784fdfa30ec94ac8b7c24d",
            "43b6101e3d28499e9e96a6732c99d7db",
            "e2f17e424f3e49e2b57469cc122ccfcb",
            "f352c7ecbd094d4680ab49c178aa44d8",
            "f0bf9ad71b094c0a9b796c084762d9e9",
            "080e4899941b4737bd366b1ce67338b8",
            "2555fabdaef3405bbf986394d4561b13",
            "62c25e681e75479380a7b23097bc4028",
            "0ac3aac9b5324f9ebbc3224cb25be4b3",
            "e7defd6429a04f4f82f29e6cf34e148e",
            "b4e8bc779bf44439af7d6597f212d309",
            "c98e0364dda5451da9a02e3fa1018c07",
            "9aa539d7dbb04637875c67c63a4684be",
            "c229d11e5f60423bb0c1ed9c3271a7e2",
            "e84cf13538294fff886d905f3a28dc97",
            "4d769252888049479aac79efcf87ed13",
            "16cd77d7d5ed477aa72d0e7bfb58acf4"
          ]
        },
        "id": "bTux8GngxhoH",
        "outputId": "a47039b1-b919-4da9-8dae-eeca88775d8e"
      },
      "outputs": [
        {
          "data": {
            "application/vnd.jupyter.widget-view+json": {
              "model_id": "99384f92a57b456d88f38a6b0ef17c1b",
              "version_major": 2,
              "version_minor": 0
            },
            "text/plain": [
              "Iteration 1 - Assigning:   0%|          | 0/4 [00:00<?, ?it/s]"
            ]
          },
          "metadata": {},
          "output_type": "display_data"
        },
        {
          "data": {
            "application/vnd.jupyter.widget-view+json": {
              "model_id": "8a30e38bae1e49d785aa5abd09e5e88f",
              "version_major": 2,
              "version_minor": 0
            },
            "text/plain": [
              "Updating centers:   0%|          | 0/115436984 [00:00<?, ?it/s]"
            ]
          },
          "metadata": {},
          "output_type": "display_data"
        },
        {
          "name": "stdout",
          "output_type": "stream",
          "text": [
            "Iteration 1 done: 115436984 pixels changed.\n"
          ]
        },
        {
          "data": {
            "application/vnd.jupyter.widget-view+json": {
              "model_id": "ba8ac30ad6dc47bc9cd4074da8f5ec72",
              "version_major": 2,
              "version_minor": 0
            },
            "text/plain": [
              "Iteration 2 - Assigning:   0%|          | 0/4 [00:00<?, ?it/s]"
            ]
          },
          "metadata": {},
          "output_type": "display_data"
        },
        {
          "data": {
            "application/vnd.jupyter.widget-view+json": {
              "model_id": "94e2528ca9ad4677828a6781df63045a",
              "version_major": 2,
              "version_minor": 0
            },
            "text/plain": [
              "Updating centers:   0%|          | 0/115436984 [00:00<?, ?it/s]"
            ]
          },
          "metadata": {},
          "output_type": "display_data"
        },
        {
          "name": "stdout",
          "output_type": "stream",
          "text": [
            "Iteration 2 done: 1536787 pixels changed.\n"
          ]
        },
        {
          "data": {
            "application/vnd.jupyter.widget-view+json": {
              "model_id": "2555fabdaef3405bbf986394d4561b13",
              "version_major": 2,
              "version_minor": 0
            },
            "text/plain": [
              "Iteration 3 - Assigning:   0%|          | 0/4 [00:00<?, ?it/s]"
            ]
          },
          "metadata": {},
          "output_type": "display_data"
        },
        {
          "name": "stdout",
          "output_type": "stream",
          "text": [
            "✅ Converged after 2 iterations.\n",
            "✅ Chunked Parallel CPU IIkMC finished in 25429.43 seconds\n"
          ]
        }
      ],
      "source": [
        "k = 8\n",
        "centers = initialize_centers_min_max(X, k)\n",
        "\n",
        "import time\n",
        "start = time.time()\n",
        "labels, final_centers = iikmc_chunked_parallel(X, centers, max_iter=5, num_workers=4)\n",
        "end = time.time()\n",
        "\n",
        "print(f\"✅ Chunked Parallel CPU IIkMC finished in {end - start:.2f} seconds\")\n"
      ]
    },
    {
      "cell_type": "markdown",
      "metadata": {
        "id": "ycPNsV5IpRJh"
      },
      "source": [
        "Iteration 1 - Assigning: 100%\n",
        " 2/2 [2:22:22<00:00, 3518.55s/it]\n",
        "Updating centers: 100%\n",
        " 115436984/115436984 [04:32<00:00, 278482.67it/s]\n",
        "Iteration 1 done: 115436984 pixels changed.\n",
        "Iteration 2 - Assigning: 100%\n",
        " 2/2 [2:21:59<00:00, 8519.84s/it]\n",
        "Updating centers: 100%\n",
        " 115436984/115436984 [04:32<00:00, 516263.61it/s]\n",
        "Iteration 2 done: 1536787 pixels changed.\n",
        "Iteration 3 - Assigning:   0%\n",
        " 0/2 [00:00<?, ?it/s]\n",
        "✅ Converged after 2 iterations.\n",
        "✅ Chunked Parallel CPU IIkMC for two threads finished in 26140.08 seconds"
      ]
    }
  ],
  "metadata": {
    "colab": {
      "provenance": []
    },
    "kernelspec": {
      "display_name": "Python 3",
      "language": "python",
      "name": "python3"
    },
    "language_info": {
      "name": "python",
      "version": ""
    },
    "widgets": {
      "application/vnd.jupyter.widget-state+json": {
        "0476ee0af982445899cb4ac61726065b": {
          "model_module": "@jupyter-widgets/controls",
          "model_module_version": "1.5.0",
          "model_name": "HTMLModel",
          "state": {
            "_dom_classes": [],
            "_model_module": "@jupyter-widgets/controls",
            "_model_module_version": "1.5.0",
            "_model_name": "HTMLModel",
            "_view_count": null,
            "_view_module": "@jupyter-widgets/controls",
            "_view_module_version": "1.5.0",
            "_view_name": "HTMLView",
            "description": "",
            "description_tooltip": null,
            "layout": "IPY_MODEL_9471e88f5c9d4109a91d4660fe1dc73b",
            "placeholder": "​",
            "style": "IPY_MODEL_ceb5536fece64f45b1fa51c3e0203efb",
            "value": "Iteration 2 - Assigning: 100%"
          }
        },
        "066ec9dc82474e6d822971e07bbf56ec": {
          "model_module": "@jupyter-widgets/base",
          "model_module_version": "1.2.0",
          "model_name": "LayoutModel",
          "state": {
            "_model_module": "@jupyter-widgets/base",
            "_model_module_version": "1.2.0",
            "_model_name": "LayoutModel",
            "_view_count": null,
            "_view_module": "@jupyter-widgets/base",
            "_view_module_version": "1.2.0",
            "_view_name": "LayoutView",
            "align_content": null,
            "align_items": null,
            "align_self": null,
            "border": null,
            "bottom": null,
            "display": null,
            "flex": null,
            "flex_flow": null,
            "grid_area": null,
            "grid_auto_columns": null,
            "grid_auto_flow": null,
            "grid_auto_rows": null,
            "grid_column": null,
            "grid_gap": null,
            "grid_row": null,
            "grid_template_areas": null,
            "grid_template_columns": null,
            "grid_template_rows": null,
            "height": null,
            "justify_content": null,
            "justify_items": null,
            "left": null,
            "margin": null,
            "max_height": null,
            "max_width": null,
            "min_height": null,
            "min_width": null,
            "object_fit": null,
            "object_position": null,
            "order": null,
            "overflow": null,
            "overflow_x": null,
            "overflow_y": null,
            "padding": null,
            "right": null,
            "top": null,
            "visibility": null,
            "width": null
          }
        },
        "080e4899941b4737bd366b1ce67338b8": {
          "model_module": "@jupyter-widgets/controls",
          "model_module_version": "1.5.0",
          "model_name": "DescriptionStyleModel",
          "state": {
            "_model_module": "@jupyter-widgets/controls",
            "_model_module_version": "1.5.0",
            "_model_name": "DescriptionStyleModel",
            "_view_count": null,
            "_view_module": "@jupyter-widgets/base",
            "_view_module_version": "1.2.0",
            "_view_name": "StyleView",
            "description_width": ""
          }
        },
        "0a0bc9bc3dab4444963ef3932107fd2e": {
          "model_module": "@jupyter-widgets/controls",
          "model_module_version": "1.5.0",
          "model_name": "HTMLModel",
          "state": {
            "_dom_classes": [],
            "_model_module": "@jupyter-widgets/controls",
            "_model_module_version": "1.5.0",
            "_model_name": "HTMLModel",
            "_view_count": null,
            "_view_module": "@jupyter-widgets/controls",
            "_view_module_version": "1.5.0",
            "_view_name": "HTMLView",
            "description": "",
            "description_tooltip": null,
            "layout": "IPY_MODEL_294954999a3e42429c7d840eb0fd6564",
            "placeholder": "​",
            "style": "IPY_MODEL_efb1ceb3bdc446b8bc72f9bc30dad56b",
            "value": "Processing scenes (serial): 100%"
          }
        },
        "0ac3aac9b5324f9ebbc3224cb25be4b3": {
          "model_module": "@jupyter-widgets/controls",
          "model_module_version": "1.5.0",
          "model_name": "FloatProgressModel",
          "state": {
            "_dom_classes": [],
            "_model_module": "@jupyter-widgets/controls",
            "_model_module_version": "1.5.0",
            "_model_name": "FloatProgressModel",
            "_view_count": null,
            "_view_module": "@jupyter-widgets/controls",
            "_view_module_version": "1.5.0",
            "_view_name": "ProgressView",
            "bar_style": "",
            "description": "",
            "description_tooltip": null,
            "layout": "IPY_MODEL_c229d11e5f60423bb0c1ed9c3271a7e2",
            "max": 4,
            "min": 0,
            "orientation": "horizontal",
            "style": "IPY_MODEL_e84cf13538294fff886d905f3a28dc97",
            "value": 0
          }
        },
        "0b0701e4c1e745ffa75205ff9953a53d": {
          "model_module": "@jupyter-widgets/base",
          "model_module_version": "1.2.0",
          "model_name": "LayoutModel",
          "state": {
            "_model_module": "@jupyter-widgets/base",
            "_model_module_version": "1.2.0",
            "_model_name": "LayoutModel",
            "_view_count": null,
            "_view_module": "@jupyter-widgets/base",
            "_view_module_version": "1.2.0",
            "_view_name": "LayoutView",
            "align_content": null,
            "align_items": null,
            "align_self": null,
            "border": null,
            "bottom": null,
            "display": null,
            "flex": null,
            "flex_flow": null,
            "grid_area": null,
            "grid_auto_columns": null,
            "grid_auto_flow": null,
            "grid_auto_rows": null,
            "grid_column": null,
            "grid_gap": null,
            "grid_row": null,
            "grid_template_areas": null,
            "grid_template_columns": null,
            "grid_template_rows": null,
            "height": null,
            "justify_content": null,
            "justify_items": null,
            "left": null,
            "margin": null,
            "max_height": null,
            "max_width": null,
            "min_height": null,
            "min_width": null,
            "object_fit": null,
            "object_position": null,
            "order": null,
            "overflow": null,
            "overflow_x": null,
            "overflow_y": null,
            "padding": null,
            "right": null,
            "top": null,
            "visibility": null,
            "width": null
          }
        },
        "0d05b5d9edb84cb09cd25f6946785609": {
          "model_module": "@jupyter-widgets/controls",
          "model_module_version": "1.5.0",
          "model_name": "DescriptionStyleModel",
          "state": {
            "_model_module": "@jupyter-widgets/controls",
            "_model_module_version": "1.5.0",
            "_model_name": "DescriptionStyleModel",
            "_view_count": null,
            "_view_module": "@jupyter-widgets/base",
            "_view_module_version": "1.2.0",
            "_view_name": "StyleView",
            "description_width": ""
          }
        },
        "16cd77d7d5ed477aa72d0e7bfb58acf4": {
          "model_module": "@jupyter-widgets/controls",
          "model_module_version": "1.5.0",
          "model_name": "DescriptionStyleModel",
          "state": {
            "_model_module": "@jupyter-widgets/controls",
            "_model_module_version": "1.5.0",
            "_model_name": "DescriptionStyleModel",
            "_view_count": null,
            "_view_module": "@jupyter-widgets/base",
            "_view_module_version": "1.2.0",
            "_view_name": "StyleView",
            "description_width": ""
          }
        },
        "1c066748c281475aae1c9b2304c83ac0": {
          "model_module": "@jupyter-widgets/base",
          "model_module_version": "1.2.0",
          "model_name": "LayoutModel",
          "state": {
            "_model_module": "@jupyter-widgets/base",
            "_model_module_version": "1.2.0",
            "_model_name": "LayoutModel",
            "_view_count": null,
            "_view_module": "@jupyter-widgets/base",
            "_view_module_version": "1.2.0",
            "_view_name": "LayoutView",
            "align_content": null,
            "align_items": null,
            "align_self": null,
            "border": null,
            "bottom": null,
            "display": null,
            "flex": null,
            "flex_flow": null,
            "grid_area": null,
            "grid_auto_columns": null,
            "grid_auto_flow": null,
            "grid_auto_rows": null,
            "grid_column": null,
            "grid_gap": null,
            "grid_row": null,
            "grid_template_areas": null,
            "grid_template_columns": null,
            "grid_template_rows": null,
            "height": null,
            "justify_content": null,
            "justify_items": null,
            "left": null,
            "margin": null,
            "max_height": null,
            "max_width": null,
            "min_height": null,
            "min_width": null,
            "object_fit": null,
            "object_position": null,
            "order": null,
            "overflow": null,
            "overflow_x": null,
            "overflow_y": null,
            "padding": null,
            "right": null,
            "top": null,
            "visibility": null,
            "width": null
          }
        },
        "1e89897c6a724b4ba187db26b37be965": {
          "model_module": "@jupyter-widgets/controls",
          "model_module_version": "1.5.0",
          "model_name": "DescriptionStyleModel",
          "state": {
            "_model_module": "@jupyter-widgets/controls",
            "_model_module_version": "1.5.0",
            "_model_name": "DescriptionStyleModel",
            "_view_count": null,
            "_view_module": "@jupyter-widgets/base",
            "_view_module_version": "1.2.0",
            "_view_name": "StyleView",
            "description_width": ""
          }
        },
        "2002f958d8c747cf9dfd1e066f1de2db": {
          "model_module": "@jupyter-widgets/controls",
          "model_module_version": "1.5.0",
          "model_name": "FloatProgressModel",
          "state": {
            "_dom_classes": [],
            "_model_module": "@jupyter-widgets/controls",
            "_model_module_version": "1.5.0",
            "_model_name": "FloatProgressModel",
            "_view_count": null,
            "_view_module": "@jupyter-widgets/controls",
            "_view_module_version": "1.5.0",
            "_view_name": "ProgressView",
            "bar_style": "success",
            "description": "",
            "description_tooltip": null,
            "layout": "IPY_MODEL_e2f17e424f3e49e2b57469cc122ccfcb",
            "max": 115436984,
            "min": 0,
            "orientation": "horizontal",
            "style": "IPY_MODEL_f352c7ecbd094d4680ab49c178aa44d8",
            "value": 115436984
          }
        },
        "22d107f6c04e4424b0baa08843b98502": {
          "model_module": "@jupyter-widgets/controls",
          "model_module_version": "1.5.0",
          "model_name": "ProgressStyleModel",
          "state": {
            "_model_module": "@jupyter-widgets/controls",
            "_model_module_version": "1.5.0",
            "_model_name": "ProgressStyleModel",
            "_view_count": null,
            "_view_module": "@jupyter-widgets/base",
            "_view_module_version": "1.2.0",
            "_view_name": "StyleView",
            "bar_color": null,
            "description_width": ""
          }
        },
        "2555fabdaef3405bbf986394d4561b13": {
          "model_module": "@jupyter-widgets/controls",
          "model_module_version": "1.5.0",
          "model_name": "HBoxModel",
          "state": {
            "_dom_classes": [],
            "_model_module": "@jupyter-widgets/controls",
            "_model_module_version": "1.5.0",
            "_model_name": "HBoxModel",
            "_view_count": null,
            "_view_module": "@jupyter-widgets/controls",
            "_view_module_version": "1.5.0",
            "_view_name": "HBoxView",
            "box_style": "",
            "children": [
              "IPY_MODEL_62c25e681e75479380a7b23097bc4028",
              "IPY_MODEL_0ac3aac9b5324f9ebbc3224cb25be4b3",
              "IPY_MODEL_e7defd6429a04f4f82f29e6cf34e148e"
            ],
            "layout": "IPY_MODEL_b4e8bc779bf44439af7d6597f212d309"
          }
        },
        "2695d3a2686047d9834a988de0842710": {
          "model_module": "@jupyter-widgets/controls",
          "model_module_version": "1.5.0",
          "model_name": "HBoxModel",
          "state": {
            "_dom_classes": [],
            "_model_module": "@jupyter-widgets/controls",
            "_model_module_version": "1.5.0",
            "_model_name": "HBoxModel",
            "_view_count": null,
            "_view_module": "@jupyter-widgets/controls",
            "_view_module_version": "1.5.0",
            "_view_name": "HBoxView",
            "box_style": "",
            "children": [
              "IPY_MODEL_0a0bc9bc3dab4444963ef3932107fd2e",
              "IPY_MODEL_71900abbeb6e42a5ba955ef1c8ef62fa",
              "IPY_MODEL_87d6861473da463d81bcd2e5a9270d0a"
            ],
            "layout": "IPY_MODEL_4ed790383e4d434587a28e4df59f0e7f"
          }
        },
        "294954999a3e42429c7d840eb0fd6564": {
          "model_module": "@jupyter-widgets/base",
          "model_module_version": "1.2.0",
          "model_name": "LayoutModel",
          "state": {
            "_model_module": "@jupyter-widgets/base",
            "_model_module_version": "1.2.0",
            "_model_name": "LayoutModel",
            "_view_count": null,
            "_view_module": "@jupyter-widgets/base",
            "_view_module_version": "1.2.0",
            "_view_name": "LayoutView",
            "align_content": null,
            "align_items": null,
            "align_self": null,
            "border": null,
            "bottom": null,
            "display": null,
            "flex": null,
            "flex_flow": null,
            "grid_area": null,
            "grid_auto_columns": null,
            "grid_auto_flow": null,
            "grid_auto_rows": null,
            "grid_column": null,
            "grid_gap": null,
            "grid_row": null,
            "grid_template_areas": null,
            "grid_template_columns": null,
            "grid_template_rows": null,
            "height": null,
            "justify_content": null,
            "justify_items": null,
            "left": null,
            "margin": null,
            "max_height": null,
            "max_width": null,
            "min_height": null,
            "min_width": null,
            "object_fit": null,
            "object_position": null,
            "order": null,
            "overflow": null,
            "overflow_x": null,
            "overflow_y": null,
            "padding": null,
            "right": null,
            "top": null,
            "visibility": null,
            "width": null
          }
        },
        "2b040bea0eeb4936be0181134affed08": {
          "model_module": "@jupyter-widgets/base",
          "model_module_version": "1.2.0",
          "model_name": "LayoutModel",
          "state": {
            "_model_module": "@jupyter-widgets/base",
            "_model_module_version": "1.2.0",
            "_model_name": "LayoutModel",
            "_view_count": null,
            "_view_module": "@jupyter-widgets/base",
            "_view_module_version": "1.2.0",
            "_view_name": "LayoutView",
            "align_content": null,
            "align_items": null,
            "align_self": null,
            "border": null,
            "bottom": null,
            "display": null,
            "flex": null,
            "flex_flow": null,
            "grid_area": null,
            "grid_auto_columns": null,
            "grid_auto_flow": null,
            "grid_auto_rows": null,
            "grid_column": null,
            "grid_gap": null,
            "grid_row": null,
            "grid_template_areas": null,
            "grid_template_columns": null,
            "grid_template_rows": null,
            "height": null,
            "justify_content": null,
            "justify_items": null,
            "left": null,
            "margin": null,
            "max_height": null,
            "max_width": null,
            "min_height": null,
            "min_width": null,
            "object_fit": null,
            "object_position": null,
            "order": null,
            "overflow": null,
            "overflow_x": null,
            "overflow_y": null,
            "padding": null,
            "right": null,
            "top": null,
            "visibility": null,
            "width": null
          }
        },
        "326cf5c6b22d4575bfe501ca223bcba5": {
          "model_module": "@jupyter-widgets/base",
          "model_module_version": "1.2.0",
          "model_name": "LayoutModel",
          "state": {
            "_model_module": "@jupyter-widgets/base",
            "_model_module_version": "1.2.0",
            "_model_name": "LayoutModel",
            "_view_count": null,
            "_view_module": "@jupyter-widgets/base",
            "_view_module_version": "1.2.0",
            "_view_name": "LayoutView",
            "align_content": null,
            "align_items": null,
            "align_self": null,
            "border": null,
            "bottom": null,
            "display": null,
            "flex": null,
            "flex_flow": null,
            "grid_area": null,
            "grid_auto_columns": null,
            "grid_auto_flow": null,
            "grid_auto_rows": null,
            "grid_column": null,
            "grid_gap": null,
            "grid_row": null,
            "grid_template_areas": null,
            "grid_template_columns": null,
            "grid_template_rows": null,
            "height": null,
            "justify_content": null,
            "justify_items": null,
            "left": null,
            "margin": null,
            "max_height": null,
            "max_width": null,
            "min_height": null,
            "min_width": null,
            "object_fit": null,
            "object_position": null,
            "order": null,
            "overflow": null,
            "overflow_x": null,
            "overflow_y": null,
            "padding": null,
            "right": null,
            "top": null,
            "visibility": null,
            "width": null
          }
        },
        "365ef706e88946e4af486406b84b2277": {
          "model_module": "@jupyter-widgets/base",
          "model_module_version": "1.2.0",
          "model_name": "LayoutModel",
          "state": {
            "_model_module": "@jupyter-widgets/base",
            "_model_module_version": "1.2.0",
            "_model_name": "LayoutModel",
            "_view_count": null,
            "_view_module": "@jupyter-widgets/base",
            "_view_module_version": "1.2.0",
            "_view_name": "LayoutView",
            "align_content": null,
            "align_items": null,
            "align_self": null,
            "border": null,
            "bottom": null,
            "display": null,
            "flex": null,
            "flex_flow": null,
            "grid_area": null,
            "grid_auto_columns": null,
            "grid_auto_flow": null,
            "grid_auto_rows": null,
            "grid_column": null,
            "grid_gap": null,
            "grid_row": null,
            "grid_template_areas": null,
            "grid_template_columns": null,
            "grid_template_rows": null,
            "height": null,
            "justify_content": null,
            "justify_items": null,
            "left": null,
            "margin": null,
            "max_height": null,
            "max_width": null,
            "min_height": null,
            "min_width": null,
            "object_fit": null,
            "object_position": null,
            "order": null,
            "overflow": null,
            "overflow_x": null,
            "overflow_y": null,
            "padding": null,
            "right": null,
            "top": null,
            "visibility": null,
            "width": null
          }
        },
        "37f2e1b25fc6440c98f9b89169dc50d6": {
          "model_module": "@jupyter-widgets/controls",
          "model_module_version": "1.5.0",
          "model_name": "HTMLModel",
          "state": {
            "_dom_classes": [],
            "_model_module": "@jupyter-widgets/controls",
            "_model_module_version": "1.5.0",
            "_model_name": "HTMLModel",
            "_view_count": null,
            "_view_module": "@jupyter-widgets/controls",
            "_view_module_version": "1.5.0",
            "_view_name": "HTMLView",
            "description": "",
            "description_tooltip": null,
            "layout": "IPY_MODEL_81a8a245c7e641e990f8564e697c9d07",
            "placeholder": "​",
            "style": "IPY_MODEL_6e8186446be64525b6509cf55383033d",
            "value": "Updating centers: 100%"
          }
        },
        "43426ade973f495183a6f093832b5388": {
          "model_module": "@jupyter-widgets/controls",
          "model_module_version": "1.5.0",
          "model_name": "FloatProgressModel",
          "state": {
            "_dom_classes": [],
            "_model_module": "@jupyter-widgets/controls",
            "_model_module_version": "1.5.0",
            "_model_name": "FloatProgressModel",
            "_view_count": null,
            "_view_module": "@jupyter-widgets/controls",
            "_view_module_version": "1.5.0",
            "_view_name": "ProgressView",
            "bar_style": "success",
            "description": "",
            "description_tooltip": null,
            "layout": "IPY_MODEL_78f58c3b77da440ab9cbd9012d31772f",
            "max": 4,
            "min": 0,
            "orientation": "horizontal",
            "style": "IPY_MODEL_5df9fa43c0e64b0b95c188a39382ba48",
            "value": 4
          }
        },
        "43b6101e3d28499e9e96a6732c99d7db": {
          "model_module": "@jupyter-widgets/controls",
          "model_module_version": "1.5.0",
          "model_name": "DescriptionStyleModel",
          "state": {
            "_model_module": "@jupyter-widgets/controls",
            "_model_module_version": "1.5.0",
            "_model_name": "DescriptionStyleModel",
            "_view_count": null,
            "_view_module": "@jupyter-widgets/base",
            "_view_module_version": "1.2.0",
            "_view_name": "StyleView",
            "description_width": ""
          }
        },
        "4b5d74646b6b4b3baf6e24527f1b789f": {
          "model_module": "@jupyter-widgets/controls",
          "model_module_version": "1.5.0",
          "model_name": "HTMLModel",
          "state": {
            "_dom_classes": [],
            "_model_module": "@jupyter-widgets/controls",
            "_model_module_version": "1.5.0",
            "_model_name": "HTMLModel",
            "_view_count": null,
            "_view_module": "@jupyter-widgets/controls",
            "_view_module_version": "1.5.0",
            "_view_name": "HTMLView",
            "description": "",
            "description_tooltip": null,
            "layout": "IPY_MODEL_c707427604784fdfa30ec94ac8b7c24d",
            "placeholder": "​",
            "style": "IPY_MODEL_43b6101e3d28499e9e96a6732c99d7db",
            "value": "Updating centers: 100%"
          }
        },
        "4d769252888049479aac79efcf87ed13": {
          "model_module": "@jupyter-widgets/base",
          "model_module_version": "1.2.0",
          "model_name": "LayoutModel",
          "state": {
            "_model_module": "@jupyter-widgets/base",
            "_model_module_version": "1.2.0",
            "_model_name": "LayoutModel",
            "_view_count": null,
            "_view_module": "@jupyter-widgets/base",
            "_view_module_version": "1.2.0",
            "_view_name": "LayoutView",
            "align_content": null,
            "align_items": null,
            "align_self": null,
            "border": null,
            "bottom": null,
            "display": null,
            "flex": null,
            "flex_flow": null,
            "grid_area": null,
            "grid_auto_columns": null,
            "grid_auto_flow": null,
            "grid_auto_rows": null,
            "grid_column": null,
            "grid_gap": null,
            "grid_row": null,
            "grid_template_areas": null,
            "grid_template_columns": null,
            "grid_template_rows": null,
            "height": null,
            "justify_content": null,
            "justify_items": null,
            "left": null,
            "margin": null,
            "max_height": null,
            "max_width": null,
            "min_height": null,
            "min_width": null,
            "object_fit": null,
            "object_position": null,
            "order": null,
            "overflow": null,
            "overflow_x": null,
            "overflow_y": null,
            "padding": null,
            "right": null,
            "top": null,
            "visibility": null,
            "width": null
          }
        },
        "4dc4f61683e54bc1943a45fdf12102cd": {
          "model_module": "@jupyter-widgets/controls",
          "model_module_version": "1.5.0",
          "model_name": "FloatProgressModel",
          "state": {
            "_dom_classes": [],
            "_model_module": "@jupyter-widgets/controls",
            "_model_module_version": "1.5.0",
            "_model_name": "FloatProgressModel",
            "_view_count": null,
            "_view_module": "@jupyter-widgets/controls",
            "_view_module_version": "1.5.0",
            "_view_name": "ProgressView",
            "bar_style": "success",
            "description": "",
            "description_tooltip": null,
            "layout": "IPY_MODEL_365ef706e88946e4af486406b84b2277",
            "max": 115436984,
            "min": 0,
            "orientation": "horizontal",
            "style": "IPY_MODEL_22d107f6c04e4424b0baa08843b98502",
            "value": 115436984
          }
        },
        "4ed790383e4d434587a28e4df59f0e7f": {
          "model_module": "@jupyter-widgets/base",
          "model_module_version": "1.2.0",
          "model_name": "LayoutModel",
          "state": {
            "_model_module": "@jupyter-widgets/base",
            "_model_module_version": "1.2.0",
            "_model_name": "LayoutModel",
            "_view_count": null,
            "_view_module": "@jupyter-widgets/base",
            "_view_module_version": "1.2.0",
            "_view_name": "LayoutView",
            "align_content": null,
            "align_items": null,
            "align_self": null,
            "border": null,
            "bottom": null,
            "display": null,
            "flex": null,
            "flex_flow": null,
            "grid_area": null,
            "grid_auto_columns": null,
            "grid_auto_flow": null,
            "grid_auto_rows": null,
            "grid_column": null,
            "grid_gap": null,
            "grid_row": null,
            "grid_template_areas": null,
            "grid_template_columns": null,
            "grid_template_rows": null,
            "height": null,
            "justify_content": null,
            "justify_items": null,
            "left": null,
            "margin": null,
            "max_height": null,
            "max_width": null,
            "min_height": null,
            "min_width": null,
            "object_fit": null,
            "object_position": null,
            "order": null,
            "overflow": null,
            "overflow_x": null,
            "overflow_y": null,
            "padding": null,
            "right": null,
            "top": null,
            "visibility": null,
            "width": null
          }
        },
        "4fc9f3e164464437a80eb6f6d5041eae": {
          "model_module": "@jupyter-widgets/base",
          "model_module_version": "1.2.0",
          "model_name": "LayoutModel",
          "state": {
            "_model_module": "@jupyter-widgets/base",
            "_model_module_version": "1.2.0",
            "_model_name": "LayoutModel",
            "_view_count": null,
            "_view_module": "@jupyter-widgets/base",
            "_view_module_version": "1.2.0",
            "_view_name": "LayoutView",
            "align_content": null,
            "align_items": null,
            "align_self": null,
            "border": null,
            "bottom": null,
            "display": null,
            "flex": null,
            "flex_flow": null,
            "grid_area": null,
            "grid_auto_columns": null,
            "grid_auto_flow": null,
            "grid_auto_rows": null,
            "grid_column": null,
            "grid_gap": null,
            "grid_row": null,
            "grid_template_areas": null,
            "grid_template_columns": null,
            "grid_template_rows": null,
            "height": null,
            "justify_content": null,
            "justify_items": null,
            "left": null,
            "margin": null,
            "max_height": null,
            "max_width": null,
            "min_height": null,
            "min_width": null,
            "object_fit": null,
            "object_position": null,
            "order": null,
            "overflow": null,
            "overflow_x": null,
            "overflow_y": null,
            "padding": null,
            "right": null,
            "top": null,
            "visibility": null,
            "width": null
          }
        },
        "5d0b25a5e30b42e49b3c285d9b2cfb2f": {
          "model_module": "@jupyter-widgets/controls",
          "model_module_version": "1.5.0",
          "model_name": "FloatProgressModel",
          "state": {
            "_dom_classes": [],
            "_model_module": "@jupyter-widgets/controls",
            "_model_module_version": "1.5.0",
            "_model_name": "FloatProgressModel",
            "_view_count": null,
            "_view_module": "@jupyter-widgets/controls",
            "_view_module_version": "1.5.0",
            "_view_name": "ProgressView",
            "bar_style": "success",
            "description": "",
            "description_tooltip": null,
            "layout": "IPY_MODEL_4fc9f3e164464437a80eb6f6d5041eae",
            "max": 4,
            "min": 0,
            "orientation": "horizontal",
            "style": "IPY_MODEL_ef2d1399b1fc4195a41a86fb3141cbfb",
            "value": 4
          }
        },
        "5d1c9328797b45748855483d8b6a9c84": {
          "model_module": "@jupyter-widgets/controls",
          "model_module_version": "1.5.0",
          "model_name": "DescriptionStyleModel",
          "state": {
            "_model_module": "@jupyter-widgets/controls",
            "_model_module_version": "1.5.0",
            "_model_name": "DescriptionStyleModel",
            "_view_count": null,
            "_view_module": "@jupyter-widgets/base",
            "_view_module_version": "1.2.0",
            "_view_name": "StyleView",
            "description_width": ""
          }
        },
        "5df9fa43c0e64b0b95c188a39382ba48": {
          "model_module": "@jupyter-widgets/controls",
          "model_module_version": "1.5.0",
          "model_name": "ProgressStyleModel",
          "state": {
            "_model_module": "@jupyter-widgets/controls",
            "_model_module_version": "1.5.0",
            "_model_name": "ProgressStyleModel",
            "_view_count": null,
            "_view_module": "@jupyter-widgets/base",
            "_view_module_version": "1.2.0",
            "_view_name": "StyleView",
            "bar_color": null,
            "description_width": ""
          }
        },
        "62c25e681e75479380a7b23097bc4028": {
          "model_module": "@jupyter-widgets/controls",
          "model_module_version": "1.5.0",
          "model_name": "HTMLModel",
          "state": {
            "_dom_classes": [],
            "_model_module": "@jupyter-widgets/controls",
            "_model_module_version": "1.5.0",
            "_model_name": "HTMLModel",
            "_view_count": null,
            "_view_module": "@jupyter-widgets/controls",
            "_view_module_version": "1.5.0",
            "_view_name": "HTMLView",
            "description": "",
            "description_tooltip": null,
            "layout": "IPY_MODEL_c98e0364dda5451da9a02e3fa1018c07",
            "placeholder": "​",
            "style": "IPY_MODEL_9aa539d7dbb04637875c67c63a4684be",
            "value": "Iteration 3 - Assigning:   0%"
          }
        },
        "6aeec8e98a2142d188e489135b2acbc8": {
          "model_module": "@jupyter-widgets/base",
          "model_module_version": "1.2.0",
          "model_name": "LayoutModel",
          "state": {
            "_model_module": "@jupyter-widgets/base",
            "_model_module_version": "1.2.0",
            "_model_name": "LayoutModel",
            "_view_count": null,
            "_view_module": "@jupyter-widgets/base",
            "_view_module_version": "1.2.0",
            "_view_name": "LayoutView",
            "align_content": null,
            "align_items": null,
            "align_self": null,
            "border": null,
            "bottom": null,
            "display": null,
            "flex": null,
            "flex_flow": null,
            "grid_area": null,
            "grid_auto_columns": null,
            "grid_auto_flow": null,
            "grid_auto_rows": null,
            "grid_column": null,
            "grid_gap": null,
            "grid_row": null,
            "grid_template_areas": null,
            "grid_template_columns": null,
            "grid_template_rows": null,
            "height": null,
            "justify_content": null,
            "justify_items": null,
            "left": null,
            "margin": null,
            "max_height": null,
            "max_width": null,
            "min_height": null,
            "min_width": null,
            "object_fit": null,
            "object_position": null,
            "order": null,
            "overflow": null,
            "overflow_x": null,
            "overflow_y": null,
            "padding": null,
            "right": null,
            "top": null,
            "visibility": null,
            "width": null
          }
        },
        "6e8186446be64525b6509cf55383033d": {
          "model_module": "@jupyter-widgets/controls",
          "model_module_version": "1.5.0",
          "model_name": "DescriptionStyleModel",
          "state": {
            "_model_module": "@jupyter-widgets/controls",
            "_model_module_version": "1.5.0",
            "_model_name": "DescriptionStyleModel",
            "_view_count": null,
            "_view_module": "@jupyter-widgets/base",
            "_view_module_version": "1.2.0",
            "_view_name": "StyleView",
            "description_width": ""
          }
        },
        "71900abbeb6e42a5ba955ef1c8ef62fa": {
          "model_module": "@jupyter-widgets/controls",
          "model_module_version": "1.5.0",
          "model_name": "FloatProgressModel",
          "state": {
            "_dom_classes": [],
            "_model_module": "@jupyter-widgets/controls",
            "_model_module_version": "1.5.0",
            "_model_name": "FloatProgressModel",
            "_view_count": null,
            "_view_module": "@jupyter-widgets/controls",
            "_view_module_version": "1.5.0",
            "_view_name": "ProgressView",
            "bar_style": "success",
            "description": "",
            "description_tooltip": null,
            "layout": "IPY_MODEL_6aeec8e98a2142d188e489135b2acbc8",
            "max": 5,
            "min": 0,
            "orientation": "horizontal",
            "style": "IPY_MODEL_b63e991c8d564fe2871491970c060525",
            "value": 5
          }
        },
        "78f58c3b77da440ab9cbd9012d31772f": {
          "model_module": "@jupyter-widgets/base",
          "model_module_version": "1.2.0",
          "model_name": "LayoutModel",
          "state": {
            "_model_module": "@jupyter-widgets/base",
            "_model_module_version": "1.2.0",
            "_model_name": "LayoutModel",
            "_view_count": null,
            "_view_module": "@jupyter-widgets/base",
            "_view_module_version": "1.2.0",
            "_view_name": "LayoutView",
            "align_content": null,
            "align_items": null,
            "align_self": null,
            "border": null,
            "bottom": null,
            "display": null,
            "flex": null,
            "flex_flow": null,
            "grid_area": null,
            "grid_auto_columns": null,
            "grid_auto_flow": null,
            "grid_auto_rows": null,
            "grid_column": null,
            "grid_gap": null,
            "grid_row": null,
            "grid_template_areas": null,
            "grid_template_columns": null,
            "grid_template_rows": null,
            "height": null,
            "justify_content": null,
            "justify_items": null,
            "left": null,
            "margin": null,
            "max_height": null,
            "max_width": null,
            "min_height": null,
            "min_width": null,
            "object_fit": null,
            "object_position": null,
            "order": null,
            "overflow": null,
            "overflow_x": null,
            "overflow_y": null,
            "padding": null,
            "right": null,
            "top": null,
            "visibility": null,
            "width": null
          }
        },
        "8166e4077f594690bcec40317916d51b": {
          "model_module": "@jupyter-widgets/controls",
          "model_module_version": "1.5.0",
          "model_name": "HTMLModel",
          "state": {
            "_dom_classes": [],
            "_model_module": "@jupyter-widgets/controls",
            "_model_module_version": "1.5.0",
            "_model_name": "HTMLModel",
            "_view_count": null,
            "_view_module": "@jupyter-widgets/controls",
            "_view_module_version": "1.5.0",
            "_view_name": "HTMLView",
            "description": "",
            "description_tooltip": null,
            "layout": "IPY_MODEL_c3532be7a2b74362bad4cdfc9cd5c593",
            "placeholder": "​",
            "style": "IPY_MODEL_f1e357cc31b744e4900dfe8253d54edc",
            "value": "Iteration 1 - Assigning: 100%"
          }
        },
        "81a8a245c7e641e990f8564e697c9d07": {
          "model_module": "@jupyter-widgets/base",
          "model_module_version": "1.2.0",
          "model_name": "LayoutModel",
          "state": {
            "_model_module": "@jupyter-widgets/base",
            "_model_module_version": "1.2.0",
            "_model_name": "LayoutModel",
            "_view_count": null,
            "_view_module": "@jupyter-widgets/base",
            "_view_module_version": "1.2.0",
            "_view_name": "LayoutView",
            "align_content": null,
            "align_items": null,
            "align_self": null,
            "border": null,
            "bottom": null,
            "display": null,
            "flex": null,
            "flex_flow": null,
            "grid_area": null,
            "grid_auto_columns": null,
            "grid_auto_flow": null,
            "grid_auto_rows": null,
            "grid_column": null,
            "grid_gap": null,
            "grid_row": null,
            "grid_template_areas": null,
            "grid_template_columns": null,
            "grid_template_rows": null,
            "height": null,
            "justify_content": null,
            "justify_items": null,
            "left": null,
            "margin": null,
            "max_height": null,
            "max_width": null,
            "min_height": null,
            "min_width": null,
            "object_fit": null,
            "object_position": null,
            "order": null,
            "overflow": null,
            "overflow_x": null,
            "overflow_y": null,
            "padding": null,
            "right": null,
            "top": null,
            "visibility": null,
            "width": null
          }
        },
        "850b303f355b4b188081d089d265f1f0": {
          "model_module": "@jupyter-widgets/base",
          "model_module_version": "1.2.0",
          "model_name": "LayoutModel",
          "state": {
            "_model_module": "@jupyter-widgets/base",
            "_model_module_version": "1.2.0",
            "_model_name": "LayoutModel",
            "_view_count": null,
            "_view_module": "@jupyter-widgets/base",
            "_view_module_version": "1.2.0",
            "_view_name": "LayoutView",
            "align_content": null,
            "align_items": null,
            "align_self": null,
            "border": null,
            "bottom": null,
            "display": null,
            "flex": null,
            "flex_flow": null,
            "grid_area": null,
            "grid_auto_columns": null,
            "grid_auto_flow": null,
            "grid_auto_rows": null,
            "grid_column": null,
            "grid_gap": null,
            "grid_row": null,
            "grid_template_areas": null,
            "grid_template_columns": null,
            "grid_template_rows": null,
            "height": null,
            "justify_content": null,
            "justify_items": null,
            "left": null,
            "margin": null,
            "max_height": null,
            "max_width": null,
            "min_height": null,
            "min_width": null,
            "object_fit": null,
            "object_position": null,
            "order": null,
            "overflow": null,
            "overflow_x": null,
            "overflow_y": null,
            "padding": null,
            "right": null,
            "top": null,
            "visibility": null,
            "width": null
          }
        },
        "87d6861473da463d81bcd2e5a9270d0a": {
          "model_module": "@jupyter-widgets/controls",
          "model_module_version": "1.5.0",
          "model_name": "HTMLModel",
          "state": {
            "_dom_classes": [],
            "_model_module": "@jupyter-widgets/controls",
            "_model_module_version": "1.5.0",
            "_model_name": "HTMLModel",
            "_view_count": null,
            "_view_module": "@jupyter-widgets/controls",
            "_view_module_version": "1.5.0",
            "_view_name": "HTMLView",
            "description": "",
            "description_tooltip": null,
            "layout": "IPY_MODEL_e98c06df8e20466ebecbe44acce8af7e",
            "placeholder": "​",
            "style": "IPY_MODEL_0d05b5d9edb84cb09cd25f6946785609",
            "value": " 5/5 [00:57&lt;00:00, 11.54s/it]"
          }
        },
        "8a30e38bae1e49d785aa5abd09e5e88f": {
          "model_module": "@jupyter-widgets/controls",
          "model_module_version": "1.5.0",
          "model_name": "HBoxModel",
          "state": {
            "_dom_classes": [],
            "_model_module": "@jupyter-widgets/controls",
            "_model_module_version": "1.5.0",
            "_model_name": "HBoxModel",
            "_view_count": null,
            "_view_module": "@jupyter-widgets/controls",
            "_view_module_version": "1.5.0",
            "_view_name": "HBoxView",
            "box_style": "",
            "children": [
              "IPY_MODEL_37f2e1b25fc6440c98f9b89169dc50d6",
              "IPY_MODEL_4dc4f61683e54bc1943a45fdf12102cd",
              "IPY_MODEL_f0fd9cb2407e4bd086c7848fbe5c6ea7"
            ],
            "layout": "IPY_MODEL_2b040bea0eeb4936be0181134affed08"
          }
        },
        "9471e88f5c9d4109a91d4660fe1dc73b": {
          "model_module": "@jupyter-widgets/base",
          "model_module_version": "1.2.0",
          "model_name": "LayoutModel",
          "state": {
            "_model_module": "@jupyter-widgets/base",
            "_model_module_version": "1.2.0",
            "_model_name": "LayoutModel",
            "_view_count": null,
            "_view_module": "@jupyter-widgets/base",
            "_view_module_version": "1.2.0",
            "_view_name": "LayoutView",
            "align_content": null,
            "align_items": null,
            "align_self": null,
            "border": null,
            "bottom": null,
            "display": null,
            "flex": null,
            "flex_flow": null,
            "grid_area": null,
            "grid_auto_columns": null,
            "grid_auto_flow": null,
            "grid_auto_rows": null,
            "grid_column": null,
            "grid_gap": null,
            "grid_row": null,
            "grid_template_areas": null,
            "grid_template_columns": null,
            "grid_template_rows": null,
            "height": null,
            "justify_content": null,
            "justify_items": null,
            "left": null,
            "margin": null,
            "max_height": null,
            "max_width": null,
            "min_height": null,
            "min_width": null,
            "object_fit": null,
            "object_position": null,
            "order": null,
            "overflow": null,
            "overflow_x": null,
            "overflow_y": null,
            "padding": null,
            "right": null,
            "top": null,
            "visibility": null,
            "width": null
          }
        },
        "94e2528ca9ad4677828a6781df63045a": {
          "model_module": "@jupyter-widgets/controls",
          "model_module_version": "1.5.0",
          "model_name": "HBoxModel",
          "state": {
            "_dom_classes": [],
            "_model_module": "@jupyter-widgets/controls",
            "_model_module_version": "1.5.0",
            "_model_name": "HBoxModel",
            "_view_count": null,
            "_view_module": "@jupyter-widgets/controls",
            "_view_module_version": "1.5.0",
            "_view_name": "HBoxView",
            "box_style": "",
            "children": [
              "IPY_MODEL_4b5d74646b6b4b3baf6e24527f1b789f",
              "IPY_MODEL_2002f958d8c747cf9dfd1e066f1de2db",
              "IPY_MODEL_b86513b5a393486ea2b62a0f9d037f2e"
            ],
            "layout": "IPY_MODEL_1c066748c281475aae1c9b2304c83ac0"
          }
        },
        "99384f92a57b456d88f38a6b0ef17c1b": {
          "model_module": "@jupyter-widgets/controls",
          "model_module_version": "1.5.0",
          "model_name": "HBoxModel",
          "state": {
            "_dom_classes": [],
            "_model_module": "@jupyter-widgets/controls",
            "_model_module_version": "1.5.0",
            "_model_name": "HBoxModel",
            "_view_count": null,
            "_view_module": "@jupyter-widgets/controls",
            "_view_module_version": "1.5.0",
            "_view_name": "HBoxView",
            "box_style": "",
            "children": [
              "IPY_MODEL_8166e4077f594690bcec40317916d51b",
              "IPY_MODEL_43426ade973f495183a6f093832b5388",
              "IPY_MODEL_ee54c6c8b14b476b82d2683b3ff30385"
            ],
            "layout": "IPY_MODEL_326cf5c6b22d4575bfe501ca223bcba5"
          }
        },
        "9aa539d7dbb04637875c67c63a4684be": {
          "model_module": "@jupyter-widgets/controls",
          "model_module_version": "1.5.0",
          "model_name": "DescriptionStyleModel",
          "state": {
            "_model_module": "@jupyter-widgets/controls",
            "_model_module_version": "1.5.0",
            "_model_name": "DescriptionStyleModel",
            "_view_count": null,
            "_view_module": "@jupyter-widgets/base",
            "_view_module_version": "1.2.0",
            "_view_name": "StyleView",
            "description_width": ""
          }
        },
        "b47766d578da4e6380f1e5df4944621f": {
          "model_module": "@jupyter-widgets/controls",
          "model_module_version": "1.5.0",
          "model_name": "DescriptionStyleModel",
          "state": {
            "_model_module": "@jupyter-widgets/controls",
            "_model_module_version": "1.5.0",
            "_model_name": "DescriptionStyleModel",
            "_view_count": null,
            "_view_module": "@jupyter-widgets/base",
            "_view_module_version": "1.2.0",
            "_view_name": "StyleView",
            "description_width": ""
          }
        },
        "b4e8bc779bf44439af7d6597f212d309": {
          "model_module": "@jupyter-widgets/base",
          "model_module_version": "1.2.0",
          "model_name": "LayoutModel",
          "state": {
            "_model_module": "@jupyter-widgets/base",
            "_model_module_version": "1.2.0",
            "_model_name": "LayoutModel",
            "_view_count": null,
            "_view_module": "@jupyter-widgets/base",
            "_view_module_version": "1.2.0",
            "_view_name": "LayoutView",
            "align_content": null,
            "align_items": null,
            "align_self": null,
            "border": null,
            "bottom": null,
            "display": null,
            "flex": null,
            "flex_flow": null,
            "grid_area": null,
            "grid_auto_columns": null,
            "grid_auto_flow": null,
            "grid_auto_rows": null,
            "grid_column": null,
            "grid_gap": null,
            "grid_row": null,
            "grid_template_areas": null,
            "grid_template_columns": null,
            "grid_template_rows": null,
            "height": null,
            "justify_content": null,
            "justify_items": null,
            "left": null,
            "margin": null,
            "max_height": null,
            "max_width": null,
            "min_height": null,
            "min_width": null,
            "object_fit": null,
            "object_position": null,
            "order": null,
            "overflow": null,
            "overflow_x": null,
            "overflow_y": null,
            "padding": null,
            "right": null,
            "top": null,
            "visibility": null,
            "width": null
          }
        },
        "b63e991c8d564fe2871491970c060525": {
          "model_module": "@jupyter-widgets/controls",
          "model_module_version": "1.5.0",
          "model_name": "ProgressStyleModel",
          "state": {
            "_model_module": "@jupyter-widgets/controls",
            "_model_module_version": "1.5.0",
            "_model_name": "ProgressStyleModel",
            "_view_count": null,
            "_view_module": "@jupyter-widgets/base",
            "_view_module_version": "1.2.0",
            "_view_name": "StyleView",
            "bar_color": null,
            "description_width": ""
          }
        },
        "b86513b5a393486ea2b62a0f9d037f2e": {
          "model_module": "@jupyter-widgets/controls",
          "model_module_version": "1.5.0",
          "model_name": "HTMLModel",
          "state": {
            "_dom_classes": [],
            "_model_module": "@jupyter-widgets/controls",
            "_model_module_version": "1.5.0",
            "_model_name": "HTMLModel",
            "_view_count": null,
            "_view_module": "@jupyter-widgets/controls",
            "_view_module_version": "1.5.0",
            "_view_name": "HTMLView",
            "description": "",
            "description_tooltip": null,
            "layout": "IPY_MODEL_f0bf9ad71b094c0a9b796c084762d9e9",
            "placeholder": "​",
            "style": "IPY_MODEL_080e4899941b4737bd366b1ce67338b8",
            "value": " 115436984/115436984 [04:39&lt;00:00, 486330.73it/s]"
          }
        },
        "ba8ac30ad6dc47bc9cd4074da8f5ec72": {
          "model_module": "@jupyter-widgets/controls",
          "model_module_version": "1.5.0",
          "model_name": "HBoxModel",
          "state": {
            "_dom_classes": [],
            "_model_module": "@jupyter-widgets/controls",
            "_model_module_version": "1.5.0",
            "_model_name": "HBoxModel",
            "_view_count": null,
            "_view_module": "@jupyter-widgets/controls",
            "_view_module_version": "1.5.0",
            "_view_name": "HBoxView",
            "box_style": "",
            "children": [
              "IPY_MODEL_0476ee0af982445899cb4ac61726065b",
              "IPY_MODEL_5d0b25a5e30b42e49b3c285d9b2cfb2f",
              "IPY_MODEL_e1fc9b20d963466b92df82ed363ad6a9"
            ],
            "layout": "IPY_MODEL_850b303f355b4b188081d089d265f1f0"
          }
        },
        "c229d11e5f60423bb0c1ed9c3271a7e2": {
          "model_module": "@jupyter-widgets/base",
          "model_module_version": "1.2.0",
          "model_name": "LayoutModel",
          "state": {
            "_model_module": "@jupyter-widgets/base",
            "_model_module_version": "1.2.0",
            "_model_name": "LayoutModel",
            "_view_count": null,
            "_view_module": "@jupyter-widgets/base",
            "_view_module_version": "1.2.0",
            "_view_name": "LayoutView",
            "align_content": null,
            "align_items": null,
            "align_self": null,
            "border": null,
            "bottom": null,
            "display": null,
            "flex": null,
            "flex_flow": null,
            "grid_area": null,
            "grid_auto_columns": null,
            "grid_auto_flow": null,
            "grid_auto_rows": null,
            "grid_column": null,
            "grid_gap": null,
            "grid_row": null,
            "grid_template_areas": null,
            "grid_template_columns": null,
            "grid_template_rows": null,
            "height": null,
            "justify_content": null,
            "justify_items": null,
            "left": null,
            "margin": null,
            "max_height": null,
            "max_width": null,
            "min_height": null,
            "min_width": null,
            "object_fit": null,
            "object_position": null,
            "order": null,
            "overflow": null,
            "overflow_x": null,
            "overflow_y": null,
            "padding": null,
            "right": null,
            "top": null,
            "visibility": null,
            "width": null
          }
        },
        "c3532be7a2b74362bad4cdfc9cd5c593": {
          "model_module": "@jupyter-widgets/base",
          "model_module_version": "1.2.0",
          "model_name": "LayoutModel",
          "state": {
            "_model_module": "@jupyter-widgets/base",
            "_model_module_version": "1.2.0",
            "_model_name": "LayoutModel",
            "_view_count": null,
            "_view_module": "@jupyter-widgets/base",
            "_view_module_version": "1.2.0",
            "_view_name": "LayoutView",
            "align_content": null,
            "align_items": null,
            "align_self": null,
            "border": null,
            "bottom": null,
            "display": null,
            "flex": null,
            "flex_flow": null,
            "grid_area": null,
            "grid_auto_columns": null,
            "grid_auto_flow": null,
            "grid_auto_rows": null,
            "grid_column": null,
            "grid_gap": null,
            "grid_row": null,
            "grid_template_areas": null,
            "grid_template_columns": null,
            "grid_template_rows": null,
            "height": null,
            "justify_content": null,
            "justify_items": null,
            "left": null,
            "margin": null,
            "max_height": null,
            "max_width": null,
            "min_height": null,
            "min_width": null,
            "object_fit": null,
            "object_position": null,
            "order": null,
            "overflow": null,
            "overflow_x": null,
            "overflow_y": null,
            "padding": null,
            "right": null,
            "top": null,
            "visibility": null,
            "width": null
          }
        },
        "c707427604784fdfa30ec94ac8b7c24d": {
          "model_module": "@jupyter-widgets/base",
          "model_module_version": "1.2.0",
          "model_name": "LayoutModel",
          "state": {
            "_model_module": "@jupyter-widgets/base",
            "_model_module_version": "1.2.0",
            "_model_name": "LayoutModel",
            "_view_count": null,
            "_view_module": "@jupyter-widgets/base",
            "_view_module_version": "1.2.0",
            "_view_name": "LayoutView",
            "align_content": null,
            "align_items": null,
            "align_self": null,
            "border": null,
            "bottom": null,
            "display": null,
            "flex": null,
            "flex_flow": null,
            "grid_area": null,
            "grid_auto_columns": null,
            "grid_auto_flow": null,
            "grid_auto_rows": null,
            "grid_column": null,
            "grid_gap": null,
            "grid_row": null,
            "grid_template_areas": null,
            "grid_template_columns": null,
            "grid_template_rows": null,
            "height": null,
            "justify_content": null,
            "justify_items": null,
            "left": null,
            "margin": null,
            "max_height": null,
            "max_width": null,
            "min_height": null,
            "min_width": null,
            "object_fit": null,
            "object_position": null,
            "order": null,
            "overflow": null,
            "overflow_x": null,
            "overflow_y": null,
            "padding": null,
            "right": null,
            "top": null,
            "visibility": null,
            "width": null
          }
        },
        "c98e0364dda5451da9a02e3fa1018c07": {
          "model_module": "@jupyter-widgets/base",
          "model_module_version": "1.2.0",
          "model_name": "LayoutModel",
          "state": {
            "_model_module": "@jupyter-widgets/base",
            "_model_module_version": "1.2.0",
            "_model_name": "LayoutModel",
            "_view_count": null,
            "_view_module": "@jupyter-widgets/base",
            "_view_module_version": "1.2.0",
            "_view_name": "LayoutView",
            "align_content": null,
            "align_items": null,
            "align_self": null,
            "border": null,
            "bottom": null,
            "display": null,
            "flex": null,
            "flex_flow": null,
            "grid_area": null,
            "grid_auto_columns": null,
            "grid_auto_flow": null,
            "grid_auto_rows": null,
            "grid_column": null,
            "grid_gap": null,
            "grid_row": null,
            "grid_template_areas": null,
            "grid_template_columns": null,
            "grid_template_rows": null,
            "height": null,
            "justify_content": null,
            "justify_items": null,
            "left": null,
            "margin": null,
            "max_height": null,
            "max_width": null,
            "min_height": null,
            "min_width": null,
            "object_fit": null,
            "object_position": null,
            "order": null,
            "overflow": null,
            "overflow_x": null,
            "overflow_y": null,
            "padding": null,
            "right": null,
            "top": null,
            "visibility": null,
            "width": null
          }
        },
        "cd4adbd7c61f4726b80e4428d1a3a934": {
          "model_module": "@jupyter-widgets/base",
          "model_module_version": "1.2.0",
          "model_name": "LayoutModel",
          "state": {
            "_model_module": "@jupyter-widgets/base",
            "_model_module_version": "1.2.0",
            "_model_name": "LayoutModel",
            "_view_count": null,
            "_view_module": "@jupyter-widgets/base",
            "_view_module_version": "1.2.0",
            "_view_name": "LayoutView",
            "align_content": null,
            "align_items": null,
            "align_self": null,
            "border": null,
            "bottom": null,
            "display": null,
            "flex": null,
            "flex_flow": null,
            "grid_area": null,
            "grid_auto_columns": null,
            "grid_auto_flow": null,
            "grid_auto_rows": null,
            "grid_column": null,
            "grid_gap": null,
            "grid_row": null,
            "grid_template_areas": null,
            "grid_template_columns": null,
            "grid_template_rows": null,
            "height": null,
            "justify_content": null,
            "justify_items": null,
            "left": null,
            "margin": null,
            "max_height": null,
            "max_width": null,
            "min_height": null,
            "min_width": null,
            "object_fit": null,
            "object_position": null,
            "order": null,
            "overflow": null,
            "overflow_x": null,
            "overflow_y": null,
            "padding": null,
            "right": null,
            "top": null,
            "visibility": null,
            "width": null
          }
        },
        "ceb5536fece64f45b1fa51c3e0203efb": {
          "model_module": "@jupyter-widgets/controls",
          "model_module_version": "1.5.0",
          "model_name": "DescriptionStyleModel",
          "state": {
            "_model_module": "@jupyter-widgets/controls",
            "_model_module_version": "1.5.0",
            "_model_name": "DescriptionStyleModel",
            "_view_count": null,
            "_view_module": "@jupyter-widgets/base",
            "_view_module_version": "1.2.0",
            "_view_name": "StyleView",
            "description_width": ""
          }
        },
        "e1fc9b20d963466b92df82ed363ad6a9": {
          "model_module": "@jupyter-widgets/controls",
          "model_module_version": "1.5.0",
          "model_name": "HTMLModel",
          "state": {
            "_dom_classes": [],
            "_model_module": "@jupyter-widgets/controls",
            "_model_module_version": "1.5.0",
            "_model_name": "HTMLModel",
            "_view_count": null,
            "_view_module": "@jupyter-widgets/controls",
            "_view_module_version": "1.5.0",
            "_view_name": "HTMLView",
            "description": "",
            "description_tooltip": null,
            "layout": "IPY_MODEL_cd4adbd7c61f4726b80e4428d1a3a934",
            "placeholder": "​",
            "style": "IPY_MODEL_5d1c9328797b45748855483d8b6a9c84",
            "value": " 4/4 [2:18:15&lt;00:00, 1127.10s/it]"
          }
        },
        "e2f17e424f3e49e2b57469cc122ccfcb": {
          "model_module": "@jupyter-widgets/base",
          "model_module_version": "1.2.0",
          "model_name": "LayoutModel",
          "state": {
            "_model_module": "@jupyter-widgets/base",
            "_model_module_version": "1.2.0",
            "_model_name": "LayoutModel",
            "_view_count": null,
            "_view_module": "@jupyter-widgets/base",
            "_view_module_version": "1.2.0",
            "_view_name": "LayoutView",
            "align_content": null,
            "align_items": null,
            "align_self": null,
            "border": null,
            "bottom": null,
            "display": null,
            "flex": null,
            "flex_flow": null,
            "grid_area": null,
            "grid_auto_columns": null,
            "grid_auto_flow": null,
            "grid_auto_rows": null,
            "grid_column": null,
            "grid_gap": null,
            "grid_row": null,
            "grid_template_areas": null,
            "grid_template_columns": null,
            "grid_template_rows": null,
            "height": null,
            "justify_content": null,
            "justify_items": null,
            "left": null,
            "margin": null,
            "max_height": null,
            "max_width": null,
            "min_height": null,
            "min_width": null,
            "object_fit": null,
            "object_position": null,
            "order": null,
            "overflow": null,
            "overflow_x": null,
            "overflow_y": null,
            "padding": null,
            "right": null,
            "top": null,
            "visibility": null,
            "width": null
          }
        },
        "e7defd6429a04f4f82f29e6cf34e148e": {
          "model_module": "@jupyter-widgets/controls",
          "model_module_version": "1.5.0",
          "model_name": "HTMLModel",
          "state": {
            "_dom_classes": [],
            "_model_module": "@jupyter-widgets/controls",
            "_model_module_version": "1.5.0",
            "_model_name": "HTMLModel",
            "_view_count": null,
            "_view_module": "@jupyter-widgets/controls",
            "_view_module_version": "1.5.0",
            "_view_name": "HTMLView",
            "description": "",
            "description_tooltip": null,
            "layout": "IPY_MODEL_4d769252888049479aac79efcf87ed13",
            "placeholder": "​",
            "style": "IPY_MODEL_16cd77d7d5ed477aa72d0e7bfb58acf4",
            "value": " 0/4 [00:00&lt;?, ?it/s]"
          }
        },
        "e84cf13538294fff886d905f3a28dc97": {
          "model_module": "@jupyter-widgets/controls",
          "model_module_version": "1.5.0",
          "model_name": "ProgressStyleModel",
          "state": {
            "_model_module": "@jupyter-widgets/controls",
            "_model_module_version": "1.5.0",
            "_model_name": "ProgressStyleModel",
            "_view_count": null,
            "_view_module": "@jupyter-widgets/base",
            "_view_module_version": "1.2.0",
            "_view_name": "StyleView",
            "bar_color": null,
            "description_width": ""
          }
        },
        "e98c06df8e20466ebecbe44acce8af7e": {
          "model_module": "@jupyter-widgets/base",
          "model_module_version": "1.2.0",
          "model_name": "LayoutModel",
          "state": {
            "_model_module": "@jupyter-widgets/base",
            "_model_module_version": "1.2.0",
            "_model_name": "LayoutModel",
            "_view_count": null,
            "_view_module": "@jupyter-widgets/base",
            "_view_module_version": "1.2.0",
            "_view_name": "LayoutView",
            "align_content": null,
            "align_items": null,
            "align_self": null,
            "border": null,
            "bottom": null,
            "display": null,
            "flex": null,
            "flex_flow": null,
            "grid_area": null,
            "grid_auto_columns": null,
            "grid_auto_flow": null,
            "grid_auto_rows": null,
            "grid_column": null,
            "grid_gap": null,
            "grid_row": null,
            "grid_template_areas": null,
            "grid_template_columns": null,
            "grid_template_rows": null,
            "height": null,
            "justify_content": null,
            "justify_items": null,
            "left": null,
            "margin": null,
            "max_height": null,
            "max_width": null,
            "min_height": null,
            "min_width": null,
            "object_fit": null,
            "object_position": null,
            "order": null,
            "overflow": null,
            "overflow_x": null,
            "overflow_y": null,
            "padding": null,
            "right": null,
            "top": null,
            "visibility": null,
            "width": null
          }
        },
        "ee54c6c8b14b476b82d2683b3ff30385": {
          "model_module": "@jupyter-widgets/controls",
          "model_module_version": "1.5.0",
          "model_name": "HTMLModel",
          "state": {
            "_dom_classes": [],
            "_model_module": "@jupyter-widgets/controls",
            "_model_module_version": "1.5.0",
            "_model_name": "HTMLModel",
            "_view_count": null,
            "_view_module": "@jupyter-widgets/controls",
            "_view_module_version": "1.5.0",
            "_view_name": "HTMLView",
            "description": "",
            "description_tooltip": null,
            "layout": "IPY_MODEL_0b0701e4c1e745ffa75205ff9953a53d",
            "placeholder": "​",
            "style": "IPY_MODEL_b47766d578da4e6380f1e5df4944621f",
            "value": " 4/4 [2:18:01&lt;00:00, 3410.43s/it]"
          }
        },
        "ef2d1399b1fc4195a41a86fb3141cbfb": {
          "model_module": "@jupyter-widgets/controls",
          "model_module_version": "1.5.0",
          "model_name": "ProgressStyleModel",
          "state": {
            "_model_module": "@jupyter-widgets/controls",
            "_model_module_version": "1.5.0",
            "_model_name": "ProgressStyleModel",
            "_view_count": null,
            "_view_module": "@jupyter-widgets/base",
            "_view_module_version": "1.2.0",
            "_view_name": "StyleView",
            "bar_color": null,
            "description_width": ""
          }
        },
        "efb1ceb3bdc446b8bc72f9bc30dad56b": {
          "model_module": "@jupyter-widgets/controls",
          "model_module_version": "1.5.0",
          "model_name": "DescriptionStyleModel",
          "state": {
            "_model_module": "@jupyter-widgets/controls",
            "_model_module_version": "1.5.0",
            "_model_name": "DescriptionStyleModel",
            "_view_count": null,
            "_view_module": "@jupyter-widgets/base",
            "_view_module_version": "1.2.0",
            "_view_name": "StyleView",
            "description_width": ""
          }
        },
        "f0bf9ad71b094c0a9b796c084762d9e9": {
          "model_module": "@jupyter-widgets/base",
          "model_module_version": "1.2.0",
          "model_name": "LayoutModel",
          "state": {
            "_model_module": "@jupyter-widgets/base",
            "_model_module_version": "1.2.0",
            "_model_name": "LayoutModel",
            "_view_count": null,
            "_view_module": "@jupyter-widgets/base",
            "_view_module_version": "1.2.0",
            "_view_name": "LayoutView",
            "align_content": null,
            "align_items": null,
            "align_self": null,
            "border": null,
            "bottom": null,
            "display": null,
            "flex": null,
            "flex_flow": null,
            "grid_area": null,
            "grid_auto_columns": null,
            "grid_auto_flow": null,
            "grid_auto_rows": null,
            "grid_column": null,
            "grid_gap": null,
            "grid_row": null,
            "grid_template_areas": null,
            "grid_template_columns": null,
            "grid_template_rows": null,
            "height": null,
            "justify_content": null,
            "justify_items": null,
            "left": null,
            "margin": null,
            "max_height": null,
            "max_width": null,
            "min_height": null,
            "min_width": null,
            "object_fit": null,
            "object_position": null,
            "order": null,
            "overflow": null,
            "overflow_x": null,
            "overflow_y": null,
            "padding": null,
            "right": null,
            "top": null,
            "visibility": null,
            "width": null
          }
        },
        "f0fd9cb2407e4bd086c7848fbe5c6ea7": {
          "model_module": "@jupyter-widgets/controls",
          "model_module_version": "1.5.0",
          "model_name": "HTMLModel",
          "state": {
            "_dom_classes": [],
            "_model_module": "@jupyter-widgets/controls",
            "_model_module_version": "1.5.0",
            "_model_name": "HTMLModel",
            "_view_count": null,
            "_view_module": "@jupyter-widgets/controls",
            "_view_module_version": "1.5.0",
            "_view_name": "HTMLView",
            "description": "",
            "description_tooltip": null,
            "layout": "IPY_MODEL_066ec9dc82474e6d822971e07bbf56ec",
            "placeholder": "​",
            "style": "IPY_MODEL_1e89897c6a724b4ba187db26b37be965",
            "value": " 115436984/115436984 [04:32&lt;00:00, 505661.91it/s]"
          }
        },
        "f1e357cc31b744e4900dfe8253d54edc": {
          "model_module": "@jupyter-widgets/controls",
          "model_module_version": "1.5.0",
          "model_name": "DescriptionStyleModel",
          "state": {
            "_model_module": "@jupyter-widgets/controls",
            "_model_module_version": "1.5.0",
            "_model_name": "DescriptionStyleModel",
            "_view_count": null,
            "_view_module": "@jupyter-widgets/base",
            "_view_module_version": "1.2.0",
            "_view_name": "StyleView",
            "description_width": ""
          }
        },
        "f352c7ecbd094d4680ab49c178aa44d8": {
          "model_module": "@jupyter-widgets/controls",
          "model_module_version": "1.5.0",
          "model_name": "ProgressStyleModel",
          "state": {
            "_model_module": "@jupyter-widgets/controls",
            "_model_module_version": "1.5.0",
            "_model_name": "ProgressStyleModel",
            "_view_count": null,
            "_view_module": "@jupyter-widgets/base",
            "_view_module_version": "1.2.0",
            "_view_name": "StyleView",
            "bar_color": null,
            "description_width": ""
          }
        }
      }
    }
  },
  "nbformat": 4,
  "nbformat_minor": 0
}